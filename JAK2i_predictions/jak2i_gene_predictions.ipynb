{
 "cells": [
  {
   "cell_type": "markdown",
   "metadata": {},
   "source": [
    "# Imports"
   ]
  },
  {
   "cell_type": "code",
   "execution_count": 1,
   "metadata": {},
   "outputs": [],
   "source": [
    "import numpy as np\n",
    "import pandas as pd\n",
    "from sklearn import tree"
   ]
  },
  {
   "cell_type": "markdown",
   "metadata": {},
   "source": [
    "# Functions"
   ]
  },
  {
   "cell_type": "code",
   "execution_count": 2,
   "metadata": {},
   "outputs": [],
   "source": [
    "# function to train a decision tree\n",
    "# inputs: train_data = training data in array (samples x timepoints), train_label = training labels in array (samples x genes),\n",
    "# outputs: dtree = trained decision tree model \n",
    "def train_dtree(train_data,train_label):    \n",
    "    # create tree model\n",
    "    dtree = tree.DecisionTreeRegressor()\n",
    "    dtree.fit(train_data,train_label)\n",
    "    return dtree"
   ]
  },
  {
   "cell_type": "code",
   "execution_count": 3,
   "metadata": {},
   "outputs": [],
   "source": [
    "# function to test decision tree predictions and calculate RMSE\n",
    "# inputs: tree_model = trained decision tree model, data = numpy array of pSTAT data (samples x 2*timepoints; pSTAT3 then pSTAT1 concat.)\n",
    "# label = numpy array of gene expression labels corresponding to data (samples x genes flattened)\n",
    "# outputs: predict = numpy array of gene predictions (samples x genes flattened), rmse = root mean squared error\n",
    "def test_and_eval(tree_model,data,label):\n",
    "    # predict labels with DTree\n",
    "    predict = tree_model.predict(data)\n",
    "\n",
    "    # calculate RMSE \n",
    "    rmse = np.sqrt(np.sum((predict - label) ** 2,axis=0) / predict.shape[0])\n",
    "\n",
    "    return predict,rmse"
   ]
  },
  {
   "cell_type": "markdown",
   "metadata": {},
   "source": [
    "# Main Script"
   ]
  },
  {
   "cell_type": "code",
   "execution_count": 5,
   "metadata": {},
   "outputs": [],
   "source": [
    "# load training data and labels (trajectories already normalized)\n",
    "train_norm_pSTAT1_data_df = pd.read_csv('Data/subset_training_data_pSTAT1.csv', header=None)\n",
    "train_label = np.asarray(pd.read_csv('Data/subset_training_label_pSTAT1.csv', header=None))\n",
    "\n",
    "# load testing data and labels (trajectories already normalized) - only IL-6 low dose since that is the experimental data we have to validate\n",
    "test_norm_pSTAT1_jak2i_data_df = pd.read_csv('Data/subset_testing_data_pSTAT1.csv', header=None)\n",
    "test_label = np.asarray(pd.read_csv('Data/subset_testing_label_pSTAT1.csv', header=None))"
   ]
  },
  {
   "cell_type": "code",
   "execution_count": 6,
   "metadata": {},
   "outputs": [],
   "source": [
    "# train with normal, unperturbed trajectory and test with jak2i trajectories\n",
    "dtree = train_dtree(np.asarray(train_norm_pSTAT1_data_df),train_label)\n",
    "predict,rmse = test_and_eval(dtree,np.asarray(test_norm_pSTAT1_jak2i_data_df),test_label)"
   ]
  },
  {
   "cell_type": "code",
   "execution_count": null,
   "metadata": {},
   "outputs": [],
   "source": []
  }
 ],
 "metadata": {
  "kernelspec": {
   "display_name": "py38",
   "language": "python",
   "name": "python3"
  },
  "language_info": {
   "codemirror_mode": {
    "name": "ipython",
    "version": 3
   },
   "file_extension": ".py",
   "mimetype": "text/x-python",
   "name": "python",
   "nbconvert_exporter": "python",
   "pygments_lexer": "ipython3",
   "version": "3.8.16"
  },
  "orig_nbformat": 4
 },
 "nbformat": 4,
 "nbformat_minor": 2
}
