{
 "cells": [
  {
   "cell_type": "markdown",
   "metadata": {},
   "source": [
    "# Imports"
   ]
  },
  {
   "cell_type": "code",
   "execution_count": 16,
   "metadata": {},
   "outputs": [],
   "source": [
    "import numpy as np\n",
    "import pandas as pd"
   ]
  },
  {
   "cell_type": "markdown",
   "metadata": {},
   "source": [
    "# Functions"
   ]
  },
  {
   "cell_type": "code",
   "execution_count": 8,
   "metadata": {},
   "outputs": [],
   "source": [
    "# function to get JAK-dep and ind clusters to evaluate\n",
    "# inputs: rmse = numpy col array of rmses, jak_dep = boolean; True means test for JAK dep. cluster, False means test for ind. cluster,\n",
    "# per = percentile of rmse, large_clus = int of minimum cluster sizes to consider\n",
    "# outputs: clus_bounds = list of tuples that have indices of cluster bounds\n",
    "def get_jak_clus(rmse,jak_dep,per,large_clus):\n",
    "    # save bounds of clusters \n",
    "    clus_bounds = []\n",
    "    check = 0 \n",
    "\n",
    "    # if checking for jak dependent cluster\n",
    "    if jak_dep == True:\n",
    "        # find largest cluster that meets threshold\n",
    "        for i in range(rmse.shape[0]):\n",
    "            if i >= check:\n",
    "                for j in range(rmse.shape[0],i,-1):\n",
    "                    # check if median meets threshold\n",
    "                    if np.median(rmse[i:j]) >= np.percentile(rmse,per):\n",
    "                        # only save if cluster is large enough \n",
    "                        if np.arange(i,j).shape[0] >= large_clus:\n",
    "                            clus_bounds.append((i,j))\n",
    "                            check = j\n",
    "                            break\n",
    "                        else:\n",
    "                            check = j\n",
    "                            break\n",
    "\n",
    "    # if checking for jak independent cluster\n",
    "    elif jak_dep == False:\n",
    "        # find largest cluster that meets threshold\n",
    "        for i in range(rmse.shape[0]):\n",
    "            if i >= check:\n",
    "                for j in range(rmse.shape[0],i,-1):\n",
    "                    # check if median meets threshold\n",
    "                    if np.median(rmse[i:j]) <= np.percentile(rmse,per):\n",
    "                        # only save if cluster is large enough\n",
    "                        if np.arange(i,j).shape[0] >= large_clus:\n",
    "                            clus_bounds.append((i,j))\n",
    "                            check = j\n",
    "                            break\n",
    "                        else:\n",
    "                            check = j\n",
    "                            break\n",
    "    print('Done')\n",
    "    \n",
    "    return clus_bounds"
   ]
  },
  {
   "cell_type": "markdown",
   "metadata": {},
   "source": [
    "# Main Script"
   ]
  },
  {
   "cell_type": "code",
   "execution_count": 19,
   "metadata": {},
   "outputs": [],
   "source": [
    "# load IL-6 1 ng gene prediction RMSEs (RMSEs from paper predictions)\n",
    "il6_low_stat1_rmse = np.loadtxt('Data/test_jak2i_rmse_pSTAT1.txt').reshape(-1,3)\n",
    "\n",
    "# average RMSEs, no 4H (since we do not have RNAseq validation data for 4H)\n",
    "il6_low_stat1_avg_rmse = np.mean(il6_low_stat1_rmse[:,0:2],axis=1)\n",
    "\n",
    "# load gene list (in same order as RMSEs)\n",
    "genes_df = pd.read_csv('Data/genes.txt', header=None,index_col=0)"
   ]
  },
  {
   "cell_type": "code",
   "execution_count": 9,
   "metadata": {},
   "outputs": [
    {
     "name": "stdout",
     "output_type": "stream",
     "text": [
      "Done\n",
      "Done\n"
     ]
    }
   ],
   "source": [
    "# get bounds of model-predicted independent (10th percentile) and dependent (90th percentile) clusters \n",
    "il6_dep_clus_bounds_90th = get_jak_clus(il6_low_stat1_avg_rmse,jak_dep=True,per=90,large_clus=10)\n",
    "il6_ind_clus_bounds_10th = get_jak_clus(il6_low_stat1_avg_rmse,jak_dep=False,per=10,large_clus=10)\n"
   ]
  },
  {
   "cell_type": "code",
   "execution_count": 22,
   "metadata": {},
   "outputs": [],
   "source": [
    "# get all model-predicted il6 jak2-dependent genes\n",
    "save_dep_genes = []\n",
    "for i in range(len(il6_dep_clus_bounds_90th)):\n",
    "    clus_ind = np.arange(il6_dep_clus_bounds_90th[i][0],il6_dep_clus_bounds_90th[i][1])\n",
    "    save_dep_genes+=list(genes_df.index[clus_ind])\n",
    "\n",
    "# get all model-predicted il6 jak2-independent genes\n",
    "save_ind_genes = []\n",
    "for i in range(len(il6_ind_clus_bounds_10th)):\n",
    "    clus_ind = np.arange(il6_ind_clus_bounds_10th[i][0],il6_ind_clus_bounds_10th[i][1])\n",
    "    save_ind_genes+=list(genes_df.index[clus_ind])\n"
   ]
  },
  {
   "cell_type": "code",
   "execution_count": null,
   "metadata": {},
   "outputs": [],
   "source": []
  }
 ],
 "metadata": {
  "kernelspec": {
   "display_name": "py38",
   "language": "python",
   "name": "python3"
  },
  "language_info": {
   "codemirror_mode": {
    "name": "ipython",
    "version": 3
   },
   "file_extension": ".py",
   "mimetype": "text/x-python",
   "name": "python",
   "nbconvert_exporter": "python",
   "pygments_lexer": "ipython3",
   "version": "3.8.16"
  },
  "orig_nbformat": 4
 },
 "nbformat": 4,
 "nbformat_minor": 2
}
